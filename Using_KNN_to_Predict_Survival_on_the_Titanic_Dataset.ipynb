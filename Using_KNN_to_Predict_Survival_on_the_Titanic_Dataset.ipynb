{
  "nbformat": 4,
  "nbformat_minor": 0,
  "metadata": {
    "colab": {
      "name": "Using KNN to Predict Survival on the Titanic Dataset.ipynb",
      "provenance": [],
      "collapsed_sections": []
    },
    "kernelspec": {
      "name": "python3",
      "display_name": "Python 3"
    }
  },
  "cells": [
    {
      "cell_type": "markdown",
      "metadata": {
        "id": "wVtC0_cRULFH"
      },
      "source": [
        "## Using KNN to predict Survival from the Titanic Dataset"
      ]
    },
    {
      "cell_type": "markdown",
      "metadata": {
        "id": "XULLRE8KUMf8"
      },
      "source": [
        "**Problem Statement**\n",
        "* Predict survival from the Titanic data based on given features"
      ]
    },
    {
      "cell_type": "markdown",
      "metadata": {
        "id": "tmLeiPhMaCH4"
      },
      "source": [
        "**Success Metrics**\n",
        "* Attain 80% accuracy level for correct prediction"
      ]
    },
    {
      "cell_type": "markdown",
      "metadata": {
        "id": "OAtmMsQsaTsB"
      },
      "source": [
        "**Understanding the Context**\n",
        "* Given the details of persons who were on board the Titanic virgin voyage, we wish to use the KNN algorithm to determine whether a passanger was likely to survive"
      ]
    },
    {
      "cell_type": "markdown",
      "metadata": {
        "id": "jdUfyjuMnP_h"
      },
      "source": [
        "**Experimental Design**\n",
        "\n",
        "* Read and explore the given dataset.\n",
        "* Define the appropriateness of the available data to answer the given question.\n",
        "* Find and deal with outliers, anomalies, and missing data within the dataset\n",
        "* Build a classification model to determine whether a passanger was likely to survice on the basis of chosen predictor features\n",
        "* Evaluate the model\n",
        "* Challenge your solution by providing insights on how you can make improvements in model improvement.\n"
      ]
    },
    {
      "cell_type": "markdown",
      "metadata": {
        "id": "SSPokQvioB-8"
      },
      "source": [
        "**Data Relevance**\n",
        "\n",
        "The data available has information about the passangers who were on board the Titanic in its maiden voyage. It contains the PassangerID, Survived, Pclass, Name, Sex, Age, SibSp, Parch, Ticket, Fare, Cabin and Embarked. These shall be evaluated and the most relevant features for the model determined for use in the model."
      ]
    },
    {
      "cell_type": "code",
      "metadata": {
        "id": "5fuP9gZNI3Dq"
      },
      "source": [
        "# Dependencies\n",
        "import numpy as np\n",
        "import matplotlib.pyplot as plt\n",
        "import pandas as pd\n",
        "import seaborn as sns\n",
        "\n",
        "from sklearn.preprocessing import LabelEncoder\n",
        "from sklearn.model_selection import train_test_split\n",
        "\n",
        "from sklearn.neighbors import KNeighborsClassifier\n",
        "from sklearn import metrics\n",
        "from sklearn.metrics import accuracy_score"
      ],
      "execution_count": 61,
      "outputs": []
    },
    {
      "cell_type": "code",
      "metadata": {
        "id": "YCsKH-ArJL0o"
      },
      "source": [
        "# Loading our dataset\n",
        "# Dataset one\n",
        "test = pd.read_csv('test.csv')\n",
        "train = pd.read_csv('train.csv')"
      ],
      "execution_count": 62,
      "outputs": []
    },
    {
      "cell_type": "code",
      "metadata": {
        "id": "riz7FpjUi4q8",
        "outputId": "38aff9e9-a87e-46e6-eee8-e57f80e1c67c",
        "colab": {
          "base_uri": "https://localhost:8080/",
          "height": 72
        }
      },
      "source": [
        "# Checking columns un the train data\n",
        "train.columns"
      ],
      "execution_count": 63,
      "outputs": [
        {
          "output_type": "execute_result",
          "data": {
            "text/plain": [
              "Index(['PassengerId', 'Survived', 'Pclass', 'Name', 'Sex', 'Age', 'SibSp',\n",
              "       'Parch', 'Ticket', 'Fare', 'Cabin', 'Embarked'],\n",
              "      dtype='object')"
            ]
          },
          "metadata": {
            "tags": []
          },
          "execution_count": 63
        }
      ]
    },
    {
      "cell_type": "markdown",
      "metadata": {
        "id": "ex3FZ_HoqGBa"
      },
      "source": [
        "* Survived is the independent variable."
      ]
    },
    {
      "cell_type": "code",
      "metadata": {
        "id": "HJt8pRIdqUIA",
        "outputId": "e1e3f0df-f02d-4636-89f1-7f77a99c7938",
        "colab": {
          "base_uri": "https://localhost:8080/",
          "height": 72
        }
      },
      "source": [
        "# Checking columns contained in the test data set\n",
        "test.columns "
      ],
      "execution_count": 91,
      "outputs": [
        {
          "output_type": "execute_result",
          "data": {
            "text/plain": [
              "Index(['PassengerId', 'Pclass', 'Name', 'Sex', 'Age', 'SibSp', 'Parch',\n",
              "       'Ticket', 'Fare', 'Cabin', 'Embarked'],\n",
              "      dtype='object')"
            ]
          },
          "metadata": {
            "tags": []
          },
          "execution_count": 91
        }
      ]
    },
    {
      "cell_type": "markdown",
      "metadata": {
        "id": "e-zrZbfZqtS2"
      },
      "source": [
        "* This data does not contain the label/independent variable column and is therefore not useful in a supervised learning problem"
      ]
    },
    {
      "cell_type": "code",
      "metadata": {
        "id": "Asvkgt9ij0qf",
        "outputId": "c545ce22-c2c3-4364-9ae7-cdb2097d941b",
        "colab": {
          "base_uri": "https://localhost:8080/",
          "height": 276
        }
      },
      "source": [
        "# Understanding the dataset\n",
        "train.head()\n"
      ],
      "execution_count": 64,
      "outputs": [
        {
          "output_type": "execute_result",
          "data": {
            "text/html": [
              "<div>\n",
              "<style scoped>\n",
              "    .dataframe tbody tr th:only-of-type {\n",
              "        vertical-align: middle;\n",
              "    }\n",
              "\n",
              "    .dataframe tbody tr th {\n",
              "        vertical-align: top;\n",
              "    }\n",
              "\n",
              "    .dataframe thead th {\n",
              "        text-align: right;\n",
              "    }\n",
              "</style>\n",
              "<table border=\"1\" class=\"dataframe\">\n",
              "  <thead>\n",
              "    <tr style=\"text-align: right;\">\n",
              "      <th></th>\n",
              "      <th>PassengerId</th>\n",
              "      <th>Survived</th>\n",
              "      <th>Pclass</th>\n",
              "      <th>Name</th>\n",
              "      <th>Sex</th>\n",
              "      <th>Age</th>\n",
              "      <th>SibSp</th>\n",
              "      <th>Parch</th>\n",
              "      <th>Ticket</th>\n",
              "      <th>Fare</th>\n",
              "      <th>Cabin</th>\n",
              "      <th>Embarked</th>\n",
              "    </tr>\n",
              "  </thead>\n",
              "  <tbody>\n",
              "    <tr>\n",
              "      <th>0</th>\n",
              "      <td>1</td>\n",
              "      <td>0</td>\n",
              "      <td>3</td>\n",
              "      <td>Braund, Mr. Owen Harris</td>\n",
              "      <td>male</td>\n",
              "      <td>22.0</td>\n",
              "      <td>1</td>\n",
              "      <td>0</td>\n",
              "      <td>A/5 21171</td>\n",
              "      <td>7.2500</td>\n",
              "      <td>NaN</td>\n",
              "      <td>S</td>\n",
              "    </tr>\n",
              "    <tr>\n",
              "      <th>1</th>\n",
              "      <td>2</td>\n",
              "      <td>1</td>\n",
              "      <td>1</td>\n",
              "      <td>Cumings, Mrs. John Bradley (Florence Briggs Th...</td>\n",
              "      <td>female</td>\n",
              "      <td>38.0</td>\n",
              "      <td>1</td>\n",
              "      <td>0</td>\n",
              "      <td>PC 17599</td>\n",
              "      <td>71.2833</td>\n",
              "      <td>C85</td>\n",
              "      <td>C</td>\n",
              "    </tr>\n",
              "    <tr>\n",
              "      <th>2</th>\n",
              "      <td>3</td>\n",
              "      <td>1</td>\n",
              "      <td>3</td>\n",
              "      <td>Heikkinen, Miss. Laina</td>\n",
              "      <td>female</td>\n",
              "      <td>26.0</td>\n",
              "      <td>0</td>\n",
              "      <td>0</td>\n",
              "      <td>STON/O2. 3101282</td>\n",
              "      <td>7.9250</td>\n",
              "      <td>NaN</td>\n",
              "      <td>S</td>\n",
              "    </tr>\n",
              "    <tr>\n",
              "      <th>3</th>\n",
              "      <td>4</td>\n",
              "      <td>1</td>\n",
              "      <td>1</td>\n",
              "      <td>Futrelle, Mrs. Jacques Heath (Lily May Peel)</td>\n",
              "      <td>female</td>\n",
              "      <td>35.0</td>\n",
              "      <td>1</td>\n",
              "      <td>0</td>\n",
              "      <td>113803</td>\n",
              "      <td>53.1000</td>\n",
              "      <td>C123</td>\n",
              "      <td>S</td>\n",
              "    </tr>\n",
              "    <tr>\n",
              "      <th>4</th>\n",
              "      <td>5</td>\n",
              "      <td>0</td>\n",
              "      <td>3</td>\n",
              "      <td>Allen, Mr. William Henry</td>\n",
              "      <td>male</td>\n",
              "      <td>35.0</td>\n",
              "      <td>0</td>\n",
              "      <td>0</td>\n",
              "      <td>373450</td>\n",
              "      <td>8.0500</td>\n",
              "      <td>NaN</td>\n",
              "      <td>S</td>\n",
              "    </tr>\n",
              "  </tbody>\n",
              "</table>\n",
              "</div>"
            ],
            "text/plain": [
              "   PassengerId  Survived  Pclass  ...     Fare Cabin  Embarked\n",
              "0            1         0       3  ...   7.2500   NaN         S\n",
              "1            2         1       1  ...  71.2833   C85         C\n",
              "2            3         1       3  ...   7.9250   NaN         S\n",
              "3            4         1       1  ...  53.1000  C123         S\n",
              "4            5         0       3  ...   8.0500   NaN         S\n",
              "\n",
              "[5 rows x 12 columns]"
            ]
          },
          "metadata": {
            "tags": []
          },
          "execution_count": 64
        }
      ]
    },
    {
      "cell_type": "code",
      "metadata": {
        "id": "0O1WRxb5kFsT",
        "outputId": "85216283-0347-4425-a7da-984c08d62d2d",
        "colab": {
          "base_uri": "https://localhost:8080/",
          "height": 35
        }
      },
      "source": [
        "# Checking the dimension of the data\n",
        "train.shape"
      ],
      "execution_count": 65,
      "outputs": [
        {
          "output_type": "execute_result",
          "data": {
            "text/plain": [
              "(891, 12)"
            ]
          },
          "metadata": {
            "tags": []
          },
          "execution_count": 65
        }
      ]
    },
    {
      "cell_type": "code",
      "metadata": {
        "id": "ZSaqgsx1kPpW",
        "outputId": "372859e4-b811-4c85-8877-d9ba1274c510",
        "colab": {
          "base_uri": "https://localhost:8080/",
          "height": 256
        }
      },
      "source": [
        "# Checking the data types\n",
        "train.dtypes"
      ],
      "execution_count": 66,
      "outputs": [
        {
          "output_type": "execute_result",
          "data": {
            "text/plain": [
              "PassengerId      int64\n",
              "Survived         int64\n",
              "Pclass           int64\n",
              "Name            object\n",
              "Sex             object\n",
              "Age            float64\n",
              "SibSp            int64\n",
              "Parch            int64\n",
              "Ticket          object\n",
              "Fare           float64\n",
              "Cabin           object\n",
              "Embarked        object\n",
              "dtype: object"
            ]
          },
          "metadata": {
            "tags": []
          },
          "execution_count": 66
        }
      ]
    },
    {
      "cell_type": "code",
      "metadata": {
        "id": "FWqheIXXkl1k",
        "outputId": "df6ef6d5-df32-408f-d24c-c08c83374cd6",
        "colab": {
          "base_uri": "https://localhost:8080/",
          "height": 206
        }
      },
      "source": [
        "# Removing unnecessary features like PassengerId, Name, Ticket, Fare, Cabin\n",
        "train = train.drop(['PassengerId', 'Name', 'Ticket', 'Fare', 'Cabin'], axis=1)\n",
        "train.head()"
      ],
      "execution_count": 67,
      "outputs": [
        {
          "output_type": "execute_result",
          "data": {
            "text/html": [
              "<div>\n",
              "<style scoped>\n",
              "    .dataframe tbody tr th:only-of-type {\n",
              "        vertical-align: middle;\n",
              "    }\n",
              "\n",
              "    .dataframe tbody tr th {\n",
              "        vertical-align: top;\n",
              "    }\n",
              "\n",
              "    .dataframe thead th {\n",
              "        text-align: right;\n",
              "    }\n",
              "</style>\n",
              "<table border=\"1\" class=\"dataframe\">\n",
              "  <thead>\n",
              "    <tr style=\"text-align: right;\">\n",
              "      <th></th>\n",
              "      <th>Survived</th>\n",
              "      <th>Pclass</th>\n",
              "      <th>Sex</th>\n",
              "      <th>Age</th>\n",
              "      <th>SibSp</th>\n",
              "      <th>Parch</th>\n",
              "      <th>Embarked</th>\n",
              "    </tr>\n",
              "  </thead>\n",
              "  <tbody>\n",
              "    <tr>\n",
              "      <th>0</th>\n",
              "      <td>0</td>\n",
              "      <td>3</td>\n",
              "      <td>male</td>\n",
              "      <td>22.0</td>\n",
              "      <td>1</td>\n",
              "      <td>0</td>\n",
              "      <td>S</td>\n",
              "    </tr>\n",
              "    <tr>\n",
              "      <th>1</th>\n",
              "      <td>1</td>\n",
              "      <td>1</td>\n",
              "      <td>female</td>\n",
              "      <td>38.0</td>\n",
              "      <td>1</td>\n",
              "      <td>0</td>\n",
              "      <td>C</td>\n",
              "    </tr>\n",
              "    <tr>\n",
              "      <th>2</th>\n",
              "      <td>1</td>\n",
              "      <td>3</td>\n",
              "      <td>female</td>\n",
              "      <td>26.0</td>\n",
              "      <td>0</td>\n",
              "      <td>0</td>\n",
              "      <td>S</td>\n",
              "    </tr>\n",
              "    <tr>\n",
              "      <th>3</th>\n",
              "      <td>1</td>\n",
              "      <td>1</td>\n",
              "      <td>female</td>\n",
              "      <td>35.0</td>\n",
              "      <td>1</td>\n",
              "      <td>0</td>\n",
              "      <td>S</td>\n",
              "    </tr>\n",
              "    <tr>\n",
              "      <th>4</th>\n",
              "      <td>0</td>\n",
              "      <td>3</td>\n",
              "      <td>male</td>\n",
              "      <td>35.0</td>\n",
              "      <td>0</td>\n",
              "      <td>0</td>\n",
              "      <td>S</td>\n",
              "    </tr>\n",
              "  </tbody>\n",
              "</table>\n",
              "</div>"
            ],
            "text/plain": [
              "   Survived  Pclass     Sex   Age  SibSp  Parch Embarked\n",
              "0         0       3    male  22.0      1      0        S\n",
              "1         1       1  female  38.0      1      0        C\n",
              "2         1       3  female  26.0      0      0        S\n",
              "3         1       1  female  35.0      1      0        S\n",
              "4         0       3    male  35.0      0      0        S"
            ]
          },
          "metadata": {
            "tags": []
          },
          "execution_count": 67
        }
      ]
    },
    {
      "cell_type": "code",
      "metadata": {
        "id": "p_Bd7HwWqa7t",
        "outputId": "2a9afc9a-719e-4ebb-8044-572c3730e547",
        "colab": {
          "base_uri": "https://localhost:8080/",
          "height": 164
        }
      },
      "source": [
        "# Checking for presence of missing data in the data\n",
        "train.isnull().sum()"
      ],
      "execution_count": 68,
      "outputs": [
        {
          "output_type": "execute_result",
          "data": {
            "text/plain": [
              "Survived      0\n",
              "Pclass        0\n",
              "Sex           0\n",
              "Age         177\n",
              "SibSp         0\n",
              "Parch         0\n",
              "Embarked      2\n",
              "dtype: int64"
            ]
          },
          "metadata": {
            "tags": []
          },
          "execution_count": 68
        }
      ]
    },
    {
      "cell_type": "markdown",
      "metadata": {
        "id": "_XUKPow0vKLh"
      },
      "source": [
        "* The 'Age' column has got the most missing values while 'Embarked' column has got ony 2\n",
        "* The missing values in the 'Age' column can be filled uding the median age\n",
        "* The missing values in the'Embarked' column can be filled with the most appearing values"
      ]
    },
    {
      "cell_type": "code",
      "metadata": {
        "id": "uHVTPOmLp7gs"
      },
      "source": [
        "# Filling the missing values in the 'Age' column\n",
        "train['Age'] = train['Age'].fillna(train.Age.median())"
      ],
      "execution_count": 69,
      "outputs": []
    },
    {
      "cell_type": "code",
      "metadata": {
        "id": "2GxLvk_UnQ6x",
        "outputId": "d1b5fc83-ab2b-4afb-de9f-b33e8e42862a",
        "colab": {
          "base_uri": "https://localhost:8080/",
          "height": 182
        }
      },
      "source": [
        "# Exploring the Age feature for possible outliers\n",
        "train.Age.describe()"
      ],
      "execution_count": 70,
      "outputs": [
        {
          "output_type": "execute_result",
          "data": {
            "text/plain": [
              "count    891.000000\n",
              "mean      29.361582\n",
              "std       13.019697\n",
              "min        0.420000\n",
              "25%       22.000000\n",
              "50%       28.000000\n",
              "75%       35.000000\n",
              "max       80.000000\n",
              "Name: Age, dtype: float64"
            ]
          },
          "metadata": {
            "tags": []
          },
          "execution_count": 70
        }
      ]
    },
    {
      "cell_type": "code",
      "metadata": {
        "id": "GfudT0ogzVdq",
        "outputId": "51ef1a69-f97b-4c04-8135-589bc44fa008",
        "colab": {
          "base_uri": "https://localhost:8080/",
          "height": 54
        }
      },
      "source": [
        "# Finding the modal entry in the Embarkment colum\n",
        "train.Embarked.mode()"
      ],
      "execution_count": 71,
      "outputs": [
        {
          "output_type": "execute_result",
          "data": {
            "text/plain": [
              "0    S\n",
              "dtype: object"
            ]
          },
          "metadata": {
            "tags": []
          },
          "execution_count": 71
        }
      ]
    },
    {
      "cell_type": "code",
      "metadata": {
        "id": "zb_vM6Eh5C_J"
      },
      "source": [
        "# Filling in the modal value into the 'Embarkment' values to the missing values\n",
        "train['Embarked'] = train['Embarked'].fillna('S')"
      ],
      "execution_count": 72,
      "outputs": []
    },
    {
      "cell_type": "code",
      "metadata": {
        "id": "UCVw790P0R7Q",
        "outputId": "7143def2-d39e-4004-9a23-14c54e71262e",
        "colab": {
          "base_uri": "https://localhost:8080/",
          "height": 164
        }
      },
      "source": [
        "# Checking the missing values once more\n",
        "train.isnull().sum()"
      ],
      "execution_count": 73,
      "outputs": [
        {
          "output_type": "execute_result",
          "data": {
            "text/plain": [
              "Survived    0\n",
              "Pclass      0\n",
              "Sex         0\n",
              "Age         0\n",
              "SibSp       0\n",
              "Parch       0\n",
              "Embarked    0\n",
              "dtype: int64"
            ]
          },
          "metadata": {
            "tags": []
          },
          "execution_count": 73
        }
      ]
    },
    {
      "cell_type": "code",
      "metadata": {
        "id": "QPRAwNzx5qS-"
      },
      "source": [
        "# Creating age groups of Adults and Non-Adults\n",
        "# Add a new column named 'Price' \n",
        "train['Adult'] = [1 if x >= 18 else 0 for x in train['Age']] "
      ],
      "execution_count": 74,
      "outputs": []
    },
    {
      "cell_type": "code",
      "metadata": {
        "id": "NQP4_GCk7O3M",
        "outputId": "e75b8b4e-2203-4435-dd46-3ca514c2b401",
        "colab": {
          "base_uri": "https://localhost:8080/",
          "height": 206
        }
      },
      "source": [
        "# Checking the new DataFrame \n",
        "train.head()"
      ],
      "execution_count": 75,
      "outputs": [
        {
          "output_type": "execute_result",
          "data": {
            "text/html": [
              "<div>\n",
              "<style scoped>\n",
              "    .dataframe tbody tr th:only-of-type {\n",
              "        vertical-align: middle;\n",
              "    }\n",
              "\n",
              "    .dataframe tbody tr th {\n",
              "        vertical-align: top;\n",
              "    }\n",
              "\n",
              "    .dataframe thead th {\n",
              "        text-align: right;\n",
              "    }\n",
              "</style>\n",
              "<table border=\"1\" class=\"dataframe\">\n",
              "  <thead>\n",
              "    <tr style=\"text-align: right;\">\n",
              "      <th></th>\n",
              "      <th>Survived</th>\n",
              "      <th>Pclass</th>\n",
              "      <th>Sex</th>\n",
              "      <th>Age</th>\n",
              "      <th>SibSp</th>\n",
              "      <th>Parch</th>\n",
              "      <th>Embarked</th>\n",
              "      <th>Adult</th>\n",
              "    </tr>\n",
              "  </thead>\n",
              "  <tbody>\n",
              "    <tr>\n",
              "      <th>0</th>\n",
              "      <td>0</td>\n",
              "      <td>3</td>\n",
              "      <td>male</td>\n",
              "      <td>22.0</td>\n",
              "      <td>1</td>\n",
              "      <td>0</td>\n",
              "      <td>S</td>\n",
              "      <td>1</td>\n",
              "    </tr>\n",
              "    <tr>\n",
              "      <th>1</th>\n",
              "      <td>1</td>\n",
              "      <td>1</td>\n",
              "      <td>female</td>\n",
              "      <td>38.0</td>\n",
              "      <td>1</td>\n",
              "      <td>0</td>\n",
              "      <td>C</td>\n",
              "      <td>1</td>\n",
              "    </tr>\n",
              "    <tr>\n",
              "      <th>2</th>\n",
              "      <td>1</td>\n",
              "      <td>3</td>\n",
              "      <td>female</td>\n",
              "      <td>26.0</td>\n",
              "      <td>0</td>\n",
              "      <td>0</td>\n",
              "      <td>S</td>\n",
              "      <td>1</td>\n",
              "    </tr>\n",
              "    <tr>\n",
              "      <th>3</th>\n",
              "      <td>1</td>\n",
              "      <td>1</td>\n",
              "      <td>female</td>\n",
              "      <td>35.0</td>\n",
              "      <td>1</td>\n",
              "      <td>0</td>\n",
              "      <td>S</td>\n",
              "      <td>1</td>\n",
              "    </tr>\n",
              "    <tr>\n",
              "      <th>4</th>\n",
              "      <td>0</td>\n",
              "      <td>3</td>\n",
              "      <td>male</td>\n",
              "      <td>35.0</td>\n",
              "      <td>0</td>\n",
              "      <td>0</td>\n",
              "      <td>S</td>\n",
              "      <td>1</td>\n",
              "    </tr>\n",
              "  </tbody>\n",
              "</table>\n",
              "</div>"
            ],
            "text/plain": [
              "   Survived  Pclass     Sex   Age  SibSp  Parch Embarked  Adult\n",
              "0         0       3    male  22.0      1      0        S      1\n",
              "1         1       1  female  38.0      1      0        C      1\n",
              "2         1       3  female  26.0      0      0        S      1\n",
              "3         1       1  female  35.0      1      0        S      1\n",
              "4         0       3    male  35.0      0      0        S      1"
            ]
          },
          "metadata": {
            "tags": []
          },
          "execution_count": 75
        }
      ]
    },
    {
      "cell_type": "code",
      "metadata": {
        "id": "GLLIGB0M7mQO"
      },
      "source": [
        "# Dropping the Age column\n",
        "train = train.drop(['Age'], axis=1)"
      ],
      "execution_count": 76,
      "outputs": []
    },
    {
      "cell_type": "code",
      "metadata": {
        "id": "8CxSgjFj75OW",
        "outputId": "dbc41542-069e-41e6-ff39-a660e36a2ff8",
        "colab": {
          "base_uri": "https://localhost:8080/",
          "height": 279
        }
      },
      "source": [
        "# Sex vs Survived\n",
        "sns.countplot(x ='Sex', data = train, hue='Survived') \n",
        "plt.show() "
      ],
      "execution_count": 77,
      "outputs": [
        {
          "output_type": "display_data",
          "data": {
            "image/png": "[encoded data removed]",
            "text/plain": [
              "<Figure size 432x288 with 1 Axes>"
            ]
          },
          "metadata": {
            "tags": [],
            "needs_background": "light"
          }
        }
      ]
    },
    {
      "cell_type": "markdown",
      "metadata": {
        "id": "ydIXtOJp-icX"
      },
      "source": [
        "* More female survived than males"
      ]
    },
    {
      "cell_type": "code",
      "metadata": {
        "id": "7zz61E7075hr",
        "outputId": "9f341529-68ad-429d-f866-6b495cf525be",
        "colab": {
          "base_uri": "https://localhost:8080/",
          "height": 279
        }
      },
      "source": [
        "# Pclass vs Survived\n",
        "sns.countplot(x ='Pclass', data = train, hue='Survived') \n",
        "plt.show() "
      ],
      "execution_count": 78,
      "outputs": [
        {
          "output_type": "display_data",
          "data": {
            "image/png": "[encoded data removed]",
            "text/plain": [
              "<Figure size 432x288 with 1 Axes>"
            ]
          },
          "metadata": {
            "tags": [],
            "needs_background": "light"
          }
        }
      ]
    },
    {
      "cell_type": "markdown",
      "metadata": {
        "id": "OcgLtaxV-3WX"
      },
      "source": [
        "* The probability of survival was high from **Pclass 1** than in any other class, this was however lowest in **Pclass 3**"
      ]
    },
    {
      "cell_type": "code",
      "metadata": {
        "id": "LwMckrVw75oV",
        "outputId": "974a4b92-cd91-4d69-e50e-c7674f732861",
        "colab": {
          "base_uri": "https://localhost:8080/",
          "height": 279
        }
      },
      "source": [
        "# SibSp Vs Survived\n",
        "sns.countplot(x ='SibSp', data = train, hue='Survived') \n",
        "plt.show() "
      ],
      "execution_count": 79,
      "outputs": [
        {
          "output_type": "display_data",
          "data": {
            "image/png": "[encoded data removed]",
            "text/plain": [
              "<Figure size 432x288 with 1 Axes>"
            ]
          },
          "metadata": {
            "tags": [],
            "needs_background": "light"
          }
        }
      ]
    },
    {
      "cell_type": "markdown",
      "metadata": {
        "id": "BK3jt9SQCaD3"
      },
      "source": [
        "* The number of of persons survived was higher in SibSp 0, followed by SibSp 1"
      ]
    },
    {
      "cell_type": "code",
      "metadata": {
        "id": "Lfa4w7wM75wC",
        "outputId": "1f8cc1dd-ea06-4fea-c596-2e9ab8972873",
        "colab": {
          "base_uri": "https://localhost:8080/",
          "height": 279
        }
      },
      "source": [
        "# Parch Vs Survived\n",
        "sns.countplot(x ='Parch', data = train, hue='Survived') \n",
        "plt.show() "
      ],
      "execution_count": 80,
      "outputs": [
        {
          "output_type": "display_data",
          "data": {
            "image/png": "[encoded data removed]",
            "text/plain": [
              "<Figure size 432x288 with 1 Axes>"
            ]
          },
          "metadata": {
            "tags": [],
            "needs_background": "light"
          }
        }
      ]
    },
    {
      "cell_type": "markdown",
      "metadata": {
        "id": "zmMX8VvCC0eA"
      },
      "source": [
        "* The number of persons who survived was highest in Parch 0, followed by 1 and so on"
      ]
    },
    {
      "cell_type": "code",
      "metadata": {
        "id": "MfFylZxqDALt",
        "outputId": "bd8bec5e-fb23-4054-8e9b-bfda2de29e1a",
        "colab": {
          "base_uri": "https://localhost:8080/",
          "height": 279
        }
      },
      "source": [
        "# Embarked Vs Survived\n",
        "sns.countplot(x ='Embarked', data = train, hue='Survived') \n",
        "plt.show() "
      ],
      "execution_count": 81,
      "outputs": [
        {
          "output_type": "display_data",
          "data": {
            "image/png": "[encoded data removed]",
            "text/plain": [
              "<Figure size 432x288 with 1 Axes>"
            ]
          },
          "metadata": {
            "tags": [],
            "needs_background": "light"
          }
        }
      ]
    },
    {
      "cell_type": "markdown",
      "metadata": {
        "id": "p_T-NqpnDOkH"
      },
      "source": [
        "* The number of persons who survived was higher in Embarked S, followed by C then finally Q"
      ]
    },
    {
      "cell_type": "code",
      "metadata": {
        "id": "RePWkFYiDAdw",
        "outputId": "e55abb1f-5f80-4d3d-bea0-57bab00e1d6c",
        "colab": {
          "base_uri": "https://localhost:8080/",
          "height": 279
        }
      },
      "source": [
        "# Adult Vs Survived\n",
        "sns.countplot(x ='Adult', data = train, hue='Survived') \n",
        "plt.show() "
      ],
      "execution_count": 82,
      "outputs": [
        {
          "output_type": "display_data",
          "data": {
            "image/png": "[encoded data removed]",
            "text/plain": [
              "<Figure size 432x288 with 1 Axes>"
            ]
          },
          "metadata": {
            "tags": [],
            "needs_background": "light"
          }
        }
      ]
    },
    {
      "cell_type": "markdown",
      "metadata": {
        "id": "O3GWf4TxD7Jx"
      },
      "source": [
        "* More adults survived than children\n",
        "\n",
        "* This look however does not factor the proportions"
      ]
    },
    {
      "cell_type": "code",
      "metadata": {
        "id": "K9Ufvsj5EDti",
        "outputId": "53e6aac1-0fd8-4bea-9450-fdeaa305f9cd",
        "colab": {
          "base_uri": "https://localhost:8080/",
          "height": 127
        }
      },
      "source": [
        "# Correlation matrix\n",
        "corr_matrix = train.corr()\n",
        "corr_matrix['Survived'].sort_values(ascending=False)"
      ],
      "execution_count": 83,
      "outputs": [
        {
          "output_type": "execute_result",
          "data": {
            "text/plain": [
              "Survived    1.000000\n",
              "Parch       0.081629\n",
              "SibSp      -0.035322\n",
              "Adult      -0.122239\n",
              "Pclass     -0.338481\n",
              "Name: Survived, dtype: float64"
            ]
          },
          "metadata": {
            "tags": []
          },
          "execution_count": 83
        }
      ]
    },
    {
      "cell_type": "markdown",
      "metadata": {
        "id": "9wWz4BrzG6tW"
      },
      "source": [
        "Label Encoding"
      ]
    },
    {
      "cell_type": "code",
      "metadata": {
        "id": "YnUo5zUDDAiU",
        "outputId": "041af453-5019-47c6-c288-713acd442e35",
        "colab": {
          "base_uri": "https://localhost:8080/",
          "height": 146
        }
      },
      "source": [
        "print('Survived: ', train.Survived.unique())\n",
        "print('Pclass: ' ,train.Pclass.unique())\n",
        "print('Sex:' ,train.Sex.unique())\n",
        "print('SibSp: ' ,train.SibSp.unique())\n",
        "print('Parch: ', train.Parch.unique())\n",
        "print('Embarked: ' ,train.Embarked.unique())\n",
        "print('Adult' ,train.Adult.unique())"
      ],
      "execution_count": 84,
      "outputs": [
        {
          "output_type": "stream",
          "text": [
            "Survived:  [0 1]\n",
            "Pclass:  [3 1 2]\n",
            "Sex: ['male' 'female']\n",
            "SibSp:  [1 0 3 4 2 5 8]\n",
            "Parch:  [0 1 2 5 3 4 6]\n",
            "Embarked:  ['S' 'C' 'Q']\n",
            "Adult [1 0]\n"
          ],
          "name": "stdout"
        }
      ]
    },
    {
      "cell_type": "markdown",
      "metadata": {
        "id": "5L8RzIMRNi29"
      },
      "source": [
        "* The 'Embarked' and 'Sex' columns require encoding"
      ]
    },
    {
      "cell_type": "code",
      "metadata": {
        "id": "UxrYyt3yDAnJ"
      },
      "source": [
        "labelEncoder = LabelEncoder()\n",
        "train['Sex'] = labelEncoder.fit_transform(train['Sex'])\n",
        "train['Embarked'] = labelEncoder.fit_transform(train['Embarked'])"
      ],
      "execution_count": 85,
      "outputs": []
    },
    {
      "cell_type": "code",
      "metadata": {
        "id": "OVxJWgRi75th",
        "outputId": "830bfe77-ee07-4363-b9e4-3542fef18355",
        "colab": {
          "base_uri": "https://localhost:8080/",
          "height": 206
        }
      },
      "source": [
        "# Previewing the data\n",
        "train.head()"
      ],
      "execution_count": 86,
      "outputs": [
        {
          "output_type": "execute_result",
          "data": {
            "text/html": [
              "<div>\n",
              "<style scoped>\n",
              "    .dataframe tbody tr th:only-of-type {\n",
              "        vertical-align: middle;\n",
              "    }\n",
              "\n",
              "    .dataframe tbody tr th {\n",
              "        vertical-align: top;\n",
              "    }\n",
              "\n",
              "    .dataframe thead th {\n",
              "        text-align: right;\n",
              "    }\n",
              "</style>\n",
              "<table border=\"1\" class=\"dataframe\">\n",
              "  <thead>\n",
              "    <tr style=\"text-align: right;\">\n",
              "      <th></th>\n",
              "      <th>Survived</th>\n",
              "      <th>Pclass</th>\n",
              "      <th>Sex</th>\n",
              "      <th>SibSp</th>\n",
              "      <th>Parch</th>\n",
              "      <th>Embarked</th>\n",
              "      <th>Adult</th>\n",
              "    </tr>\n",
              "  </thead>\n",
              "  <tbody>\n",
              "    <tr>\n",
              "      <th>0</th>\n",
              "      <td>0</td>\n",
              "      <td>3</td>\n",
              "      <td>1</td>\n",
              "      <td>1</td>\n",
              "      <td>0</td>\n",
              "      <td>2</td>\n",
              "      <td>1</td>\n",
              "    </tr>\n",
              "    <tr>\n",
              "      <th>1</th>\n",
              "      <td>1</td>\n",
              "      <td>1</td>\n",
              "      <td>0</td>\n",
              "      <td>1</td>\n",
              "      <td>0</td>\n",
              "      <td>0</td>\n",
              "      <td>1</td>\n",
              "    </tr>\n",
              "    <tr>\n",
              "      <th>2</th>\n",
              "      <td>1</td>\n",
              "      <td>3</td>\n",
              "      <td>0</td>\n",
              "      <td>0</td>\n",
              "      <td>0</td>\n",
              "      <td>2</td>\n",
              "      <td>1</td>\n",
              "    </tr>\n",
              "    <tr>\n",
              "      <th>3</th>\n",
              "      <td>1</td>\n",
              "      <td>1</td>\n",
              "      <td>0</td>\n",
              "      <td>1</td>\n",
              "      <td>0</td>\n",
              "      <td>2</td>\n",
              "      <td>1</td>\n",
              "    </tr>\n",
              "    <tr>\n",
              "      <th>4</th>\n",
              "      <td>0</td>\n",
              "      <td>3</td>\n",
              "      <td>1</td>\n",
              "      <td>0</td>\n",
              "      <td>0</td>\n",
              "      <td>2</td>\n",
              "      <td>1</td>\n",
              "    </tr>\n",
              "  </tbody>\n",
              "</table>\n",
              "</div>"
            ],
            "text/plain": [
              "   Survived  Pclass  Sex  SibSp  Parch  Embarked  Adult\n",
              "0         0       3    1      1      0         2      1\n",
              "1         1       1    0      1      0         0      1\n",
              "2         1       3    0      0      0         2      1\n",
              "3         1       1    0      1      0         2      1\n",
              "4         0       3    1      0      0         2      1"
            ]
          },
          "metadata": {
            "tags": []
          },
          "execution_count": 86
        }
      ]
    },
    {
      "cell_type": "code",
      "metadata": {
        "id": "Hn7VqKeZQGTg",
        "outputId": "5834f12f-ae9a-4002-eb0b-238d5b339415",
        "colab": {
          "base_uri": "https://localhost:8080/",
          "height": 164
        }
      },
      "source": [
        "# Checking the data types of the final DataFrame\n",
        "train.dtypes"
      ],
      "execution_count": 87,
      "outputs": [
        {
          "output_type": "execute_result",
          "data": {
            "text/plain": [
              "Survived    int64\n",
              "Pclass      int64\n",
              "Sex         int64\n",
              "SibSp       int64\n",
              "Parch       int64\n",
              "Embarked    int64\n",
              "Adult       int64\n",
              "dtype: object"
            ]
          },
          "metadata": {
            "tags": []
          },
          "execution_count": 87
        }
      ]
    },
    {
      "cell_type": "code",
      "metadata": {
        "id": "RQXeTkHLQGWc",
        "outputId": "056f5366-4f81-4d08-c540-05dd066d1f15",
        "colab": {
          "base_uri": "https://localhost:8080/",
          "height": 164
        }
      },
      "source": [
        "# Converting the data types into type category\n",
        "cols = list(train.columns)\n",
        "for col in cols:\n",
        "  train[col] = train[col].astype('category')\n",
        "\n",
        "train.dtypes"
      ],
      "execution_count": 88,
      "outputs": [
        {
          "output_type": "execute_result",
          "data": {
            "text/plain": [
              "Survived    category\n",
              "Pclass      category\n",
              "Sex         category\n",
              "SibSp       category\n",
              "Parch       category\n",
              "Embarked    category\n",
              "Adult       category\n",
              "dtype: object"
            ]
          },
          "metadata": {
            "tags": []
          },
          "execution_count": 88
        }
      ]
    },
    {
      "cell_type": "markdown",
      "metadata": {
        "id": "0xc1wpeJ-eJC"
      },
      "source": [
        "Defining the dependent and independent variable"
      ]
    },
    {
      "cell_type": "code",
      "metadata": {
        "id": "akE4YRoZQGco"
      },
      "source": [
        "# Dependent and independent variables\n",
        "X = train.drop(['Survived'], axis=1)\n",
        "y = train.Survived"
      ],
      "execution_count": 89,
      "outputs": []
    },
    {
      "cell_type": "markdown",
      "metadata": {
        "id": "bBF3w2RgT9SY"
      },
      "source": [
        "**Splitting the Data and Building the Model**\n",
        "\n",
        "* The data shall be split into 80 - 20, 70 - 30 and 60 - 40 trainiing and testing datasets whih chall be evaluated separately"
      ]
    },
    {
      "cell_type": "code",
      "metadata": {
        "id": "mVCBfvyBQGgJ",
        "outputId": "46a9d3a2-cbca-48b9-8834-5efe2e0031ef",
        "colab": {
          "base_uri": "https://localhost:8080/",
          "height": 202
        }
      },
      "source": [
        "# Splitting the dataset\n",
        "\n",
        "# Various test dataset sizes 20%, 30% and 40%\n",
        "test_sizes = [0.2, 0.3, 0.4]\n",
        "for size in test_sizes:\n",
        "\n",
        "  # Splitter function\n",
        "  X_train, X_test, y_train, y_test = train_test_split(X, y, test_size=size, random_state=1)\n",
        "\n",
        "  # Number of neighbors\n",
        "  k_range = range(1, 20)\n",
        "\n",
        "  scores = []\n",
        "  \n",
        "  print('')\n",
        "  print('Test size: ', size*100,'%')\n",
        "\n",
        "  # Fitting and evaluating the model\n",
        "  for k in k_range:\n",
        "    knn = KNeighborsClassifier(n_neighbors=k)\n",
        "    knn.fit(train_x1, train_y1)\n",
        "    y_pred = knn.predict(test_x1)\n",
        "    scores.append(metrics.accuracy_score(test_y1, y_pred))\n",
        "  print(scores)"
      ],
      "execution_count": 90,
      "outputs": [
        {
          "output_type": "stream",
          "text": [
            "\n",
            "Test size:  20.0 %\n",
            "[0.7653631284916201, 0.7486033519553073, 0.776536312849162, 0.7486033519553073, 0.7486033519553073, 0.7374301675977654, 0.7597765363128491, 0.7597765363128491, 0.770949720670391, 0.7541899441340782, 0.7653631284916201, 0.7486033519553073, 0.7541899441340782, 0.7486033519553073, 0.7597765363128491, 0.7486033519553073, 0.7597765363128491, 0.7486033519553073, 0.7597765363128491]\n",
            "\n",
            "Test size:  30.0 %\n",
            "[0.7653631284916201, 0.7486033519553073, 0.776536312849162, 0.7486033519553073, 0.7486033519553073, 0.7374301675977654, 0.7597765363128491, 0.7597765363128491, 0.770949720670391, 0.7541899441340782, 0.7653631284916201, 0.7486033519553073, 0.7541899441340782, 0.7486033519553073, 0.7597765363128491, 0.7486033519553073, 0.7597765363128491, 0.7486033519553073, 0.7597765363128491]\n",
            "\n",
            "Test size:  40.0 %\n",
            "[0.7653631284916201, 0.7486033519553073, 0.776536312849162, 0.7486033519553073, 0.7486033519553073, 0.7374301675977654, 0.7597765363128491, 0.7597765363128491, 0.770949720670391, 0.7541899441340782, 0.7653631284916201, 0.7486033519553073, 0.7541899441340782, 0.7486033519553073, 0.7597765363128491, 0.7486033519553073, 0.7597765363128491, 0.7486033519553073, 0.7597765363128491]\n"
          ],
          "name": "stdout"
        }
      ]
    },
    {
      "cell_type": "markdown",
      "metadata": {
        "id": "jPjoA--GSFrv"
      },
      "source": [
        "* The accuracy scores at the different proportions of training data is the same"
      ]
    },
    {
      "cell_type": "markdown",
      "metadata": {
        "id": "Pi68m3gjsivY"
      },
      "source": [
        "**Challenging the solution**\n",
        "* The best accuracy level is attained with number of neighbors k = 3\n",
        "* The best accuracy attained is at 77.65%, trying another model may lead to higher accuracy rates"
      ]
    }
  ]
}