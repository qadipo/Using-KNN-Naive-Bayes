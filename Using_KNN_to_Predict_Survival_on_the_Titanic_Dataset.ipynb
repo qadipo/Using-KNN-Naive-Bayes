{
  "nbformat": 4,
  "nbformat_minor": 0,
  "metadata": {
    "colab": {
      "name": "Using_KNN_to_Predict_Survival_on_the_Titanic_Dataset.ipynb",
      "provenance": [],
      "collapsed_sections": [],
      "toc_visible": true
    },
    "kernelspec": {
      "name": "python3",
      "display_name": "Python 3"
    }
  },
  "cells": [
    {
      "cell_type": "markdown",
      "metadata": {
        "id": "wVtC0_cRULFH"
      },
      "source": [
        "## Using KNN to predict Survival from the Titanic Dataset"
      ]
    },
    {
      "cell_type": "markdown",
      "metadata": {
        "id": "XULLRE8KUMf8"
      },
      "source": [
        "**Problem Statement**\n",
        "* Predict survival from the Titanic data based on given features"
      ]
    },
    {
      "cell_type": "markdown",
      "metadata": {
        "id": "tmLeiPhMaCH4"
      },
      "source": [
        "**Success Metrics**\n",
        "* Attain 80% accuracy level for correct prediction"
      ]
    },
    {
      "cell_type": "markdown",
      "metadata": {
        "id": "OAtmMsQsaTsB"
      },
      "source": [
        "**Understanding the Context**\n",
        "* Given the details of persons who were on board the Titanic virgin voyage, we wish to use the KNN algorithm to determine whether a passanger was likely to survive"
      ]
    },
    {
      "cell_type": "markdown",
      "metadata": {
        "id": "jdUfyjuMnP_h"
      },
      "source": [
        "**Experimental Design**\n",
        "\n",
        "* Read and explore the given dataset.\n",
        "* Define the appropriateness of the available data to answer the given question.\n",
        "* Find and deal with outliers, anomalies, and missing data within the dataset\n",
        "* Build a classification model to determine whether a passanger was likely to survice on the basis of chosen predictor features\n",
        "* Evaluate the model\n",
        "* Challenge your solution by providing insights on how you can make improvements in model improvement.\n"
      ]
    },
    {
      "cell_type": "markdown",
      "metadata": {
        "id": "SSPokQvioB-8"
      },
      "source": [
        "**Data Relevance**\n",
        "\n",
        "The data available has information about the passangers who were on board the Titanic in its maiden voyage. It contains the PassangerID, Survived, Pclass, Name, Sex, Age, SibSp, Parch, Ticket, Fare, Cabin and Embarked. These shall be evaluated and the most relevant features for the model determined for use in the model."
      ]
    },
    {
      "cell_type": "code",
      "metadata": {
        "id": "5fuP9gZNI3Dq"
      },
      "source": [
        "# Dependencies\n",
        "import numpy as np\n",
        "import matplotlib.pyplot as plt\n",
        "import pandas as pd\n",
        "import seaborn as sns\n",
        "\n",
        "from pandas.api.types import is_string_dtype\n",
        "from pandas.api.types import is_numeric_dtype\n",
        "\n",
        "from sklearn.preprocessing import LabelEncoder\n",
        "from sklearn.model_selection import train_test_split\n",
        "\n",
        "from sklearn.neighbors import KNeighborsClassifier\n",
        "from sklearn import metrics\n",
        "from sklearn.metrics import accuracy_score"
      ],
      "execution_count": 58,
      "outputs": []
    },
    {
      "cell_type": "code",
      "metadata": {
        "id": "YCsKH-ArJL0o"
      },
      "source": [
        "# Loading our dataset\n",
        "# Dataset one\n",
        "test = pd.read_csv('test.csv')\n",
        "train = pd.read_csv('train.csv')"
      ],
      "execution_count": 59,
      "outputs": []
    },
    {
      "cell_type": "code",
      "metadata": {
        "id": "riz7FpjUi4q8",
        "colab": {
          "base_uri": "https://localhost:8080/"
        },
        "outputId": "d34d2b2c-1910-4fe4-f49e-146c58687a2f"
      },
      "source": [
        "# Checking columns un the train data\n",
        "train.columns"
      ],
      "execution_count": 60,
      "outputs": [
        {
          "output_type": "execute_result",
          "data": {
            "text/plain": [
              "Index(['PassengerId', 'Survived', 'Pclass', 'Name', 'Sex', 'Age', 'SibSp',\n",
              "       'Parch', 'Ticket', 'Fare', 'Cabin', 'Embarked'],\n",
              "      dtype='object')"
            ]
          },
          "metadata": {
            "tags": []
          },
          "execution_count": 60
        }
      ]
    },
    {
      "cell_type": "markdown",
      "metadata": {
        "id": "ex3FZ_HoqGBa"
      },
      "source": [
        "* Survived is the independent variable."
      ]
    },
    {
      "cell_type": "code",
      "metadata": {
        "id": "HJt8pRIdqUIA",
        "colab": {
          "base_uri": "https://localhost:8080/"
        },
        "outputId": "fa0f26f2-f59d-4341-80ed-fc6d79f1ffcd"
      },
      "source": [
        "# Checking columns contained in the test data set\n",
        "test.columns "
      ],
      "execution_count": 61,
      "outputs": [
        {
          "output_type": "execute_result",
          "data": {
            "text/plain": [
              "Index(['PassengerId', 'Pclass', 'Name', 'Sex', 'Age', 'SibSp', 'Parch',\n",
              "       'Ticket', 'Fare', 'Cabin', 'Embarked'],\n",
              "      dtype='object')"
            ]
          },
          "metadata": {
            "tags": []
          },
          "execution_count": 61
        }
      ]
    },
    {
      "cell_type": "markdown",
      "metadata": {
        "id": "e-zrZbfZqtS2"
      },
      "source": [
        "* This data does not contain the label/independent variable column and is therefore not useful in a supervised learning problem"
      ]
    },
    {
      "cell_type": "code",
      "metadata": {
        "id": "Asvkgt9ij0qf",
        "colab": {
          "base_uri": "https://localhost:8080/",
          "height": 241
        },
        "outputId": "f6cc131c-d725-4cd0-9006-c276c4e00ede"
      },
      "source": [
        "# Understanding the dataset\n",
        "train.head()\n"
      ],
      "execution_count": 62,
      "outputs": [
        {
          "output_type": "execute_result",
          "data": {
            "text/html": [
              "<div>\n",
              "<style scoped>\n",
              "    .dataframe tbody tr th:only-of-type {\n",
              "        vertical-align: middle;\n",
              "    }\n",
              "\n",
              "    .dataframe tbody tr th {\n",
              "        vertical-align: top;\n",
              "    }\n",
              "\n",
              "    .dataframe thead th {\n",
              "        text-align: right;\n",
              "    }\n",
              "</style>\n",
              "<table border=\"1\" class=\"dataframe\">\n",
              "  <thead>\n",
              "    <tr style=\"text-align: right;\">\n",
              "      <th></th>\n",
              "      <th>PassengerId</th>\n",
              "      <th>Survived</th>\n",
              "      <th>Pclass</th>\n",
              "      <th>Name</th>\n",
              "      <th>Sex</th>\n",
              "      <th>Age</th>\n",
              "      <th>SibSp</th>\n",
              "      <th>Parch</th>\n",
              "      <th>Ticket</th>\n",
              "      <th>Fare</th>\n",
              "      <th>Cabin</th>\n",
              "      <th>Embarked</th>\n",
              "    </tr>\n",
              "  </thead>\n",
              "  <tbody>\n",
              "    <tr>\n",
              "      <th>0</th>\n",
              "      <td>1</td>\n",
              "      <td>0</td>\n",
              "      <td>3</td>\n",
              "      <td>Braund, Mr. Owen Harris</td>\n",
              "      <td>male</td>\n",
              "      <td>22.0</td>\n",
              "      <td>1</td>\n",
              "      <td>0</td>\n",
              "      <td>A/5 21171</td>\n",
              "      <td>7.2500</td>\n",
              "      <td>NaN</td>\n",
              "      <td>S</td>\n",
              "    </tr>\n",
              "    <tr>\n",
              "      <th>1</th>\n",
              "      <td>2</td>\n",
              "      <td>1</td>\n",
              "      <td>1</td>\n",
              "      <td>Cumings, Mrs. John Bradley (Florence Briggs Th...</td>\n",
              "      <td>female</td>\n",
              "      <td>38.0</td>\n",
              "      <td>1</td>\n",
              "      <td>0</td>\n",
              "      <td>PC 17599</td>\n",
              "      <td>71.2833</td>\n",
              "      <td>C85</td>\n",
              "      <td>C</td>\n",
              "    </tr>\n",
              "    <tr>\n",
              "      <th>2</th>\n",
              "      <td>3</td>\n",
              "      <td>1</td>\n",
              "      <td>3</td>\n",
              "      <td>Heikkinen, Miss. Laina</td>\n",
              "      <td>female</td>\n",
              "      <td>26.0</td>\n",
              "      <td>0</td>\n",
              "      <td>0</td>\n",
              "      <td>STON/O2. 3101282</td>\n",
              "      <td>7.9250</td>\n",
              "      <td>NaN</td>\n",
              "      <td>S</td>\n",
              "    </tr>\n",
              "    <tr>\n",
              "      <th>3</th>\n",
              "      <td>4</td>\n",
              "      <td>1</td>\n",
              "      <td>1</td>\n",
              "      <td>Futrelle, Mrs. Jacques Heath (Lily May Peel)</td>\n",
              "      <td>female</td>\n",
              "      <td>35.0</td>\n",
              "      <td>1</td>\n",
              "      <td>0</td>\n",
              "      <td>113803</td>\n",
              "      <td>53.1000</td>\n",
              "      <td>C123</td>\n",
              "      <td>S</td>\n",
              "    </tr>\n",
              "    <tr>\n",
              "      <th>4</th>\n",
              "      <td>5</td>\n",
              "      <td>0</td>\n",
              "      <td>3</td>\n",
              "      <td>Allen, Mr. William Henry</td>\n",
              "      <td>male</td>\n",
              "      <td>35.0</td>\n",
              "      <td>0</td>\n",
              "      <td>0</td>\n",
              "      <td>373450</td>\n",
              "      <td>8.0500</td>\n",
              "      <td>NaN</td>\n",
              "      <td>S</td>\n",
              "    </tr>\n",
              "  </tbody>\n",
              "</table>\n",
              "</div>"
            ],
            "text/plain": [
              "   PassengerId  Survived  Pclass  ...     Fare Cabin  Embarked\n",
              "0            1         0       3  ...   7.2500   NaN         S\n",
              "1            2         1       1  ...  71.2833   C85         C\n",
              "2            3         1       3  ...   7.9250   NaN         S\n",
              "3            4         1       1  ...  53.1000  C123         S\n",
              "4            5         0       3  ...   8.0500   NaN         S\n",
              "\n",
              "[5 rows x 12 columns]"
            ]
          },
          "metadata": {
            "tags": []
          },
          "execution_count": 62
        }
      ]
    },
    {
      "cell_type": "code",
      "metadata": {
        "id": "0O1WRxb5kFsT",
        "colab": {
          "base_uri": "https://localhost:8080/"
        },
        "outputId": "4e0bbfa5-47a6-4583-b086-af3f26324490"
      },
      "source": [
        "# Checking the dimension of the data\n",
        "train.shape"
      ],
      "execution_count": 64,
      "outputs": [
        {
          "output_type": "execute_result",
          "data": {
            "text/plain": [
              "(891, 12)"
            ]
          },
          "metadata": {
            "tags": []
          },
          "execution_count": 64
        }
      ]
    },
    {
      "cell_type": "code",
      "metadata": {
        "id": "ZSaqgsx1kPpW",
        "colab": {
          "base_uri": "https://localhost:8080/"
        },
        "outputId": "61611311-f1e2-4ec1-ceb6-26561922d65d"
      },
      "source": [
        "# Checking the data types\n",
        "train.dtypes"
      ],
      "execution_count": 65,
      "outputs": [
        {
          "output_type": "execute_result",
          "data": {
            "text/plain": [
              "PassengerId      int64\n",
              "Survived         int64\n",
              "Pclass           int64\n",
              "Name            object\n",
              "Sex             object\n",
              "Age            float64\n",
              "SibSp            int64\n",
              "Parch            int64\n",
              "Ticket          object\n",
              "Fare           float64\n",
              "Cabin           object\n",
              "Embarked        object\n",
              "dtype: object"
            ]
          },
          "metadata": {
            "tags": []
          },
          "execution_count": 65
        }
      ]
    },
    {
      "cell_type": "code",
      "metadata": {
        "id": "FWqheIXXkl1k",
        "colab": {
          "base_uri": "https://localhost:8080/",
          "height": 206
        },
        "outputId": "74b6f69e-e1a5-402f-a2ef-378c7c1a26b3"
      },
      "source": [
        "# Removing unnecessary features like PassengerId, Name, Ticket, Fare, Cabin\n",
        "train = train.drop(['PassengerId', 'Name', 'Ticket', 'Fare', 'Cabin'], axis=1)\n",
        "train.head()"
      ],
      "execution_count": 66,
      "outputs": [
        {
          "output_type": "execute_result",
          "data": {
            "text/html": [
              "<div>\n",
              "<style scoped>\n",
              "    .dataframe tbody tr th:only-of-type {\n",
              "        vertical-align: middle;\n",
              "    }\n",
              "\n",
              "    .dataframe tbody tr th {\n",
              "        vertical-align: top;\n",
              "    }\n",
              "\n",
              "    .dataframe thead th {\n",
              "        text-align: right;\n",
              "    }\n",
              "</style>\n",
              "<table border=\"1\" class=\"dataframe\">\n",
              "  <thead>\n",
              "    <tr style=\"text-align: right;\">\n",
              "      <th></th>\n",
              "      <th>Survived</th>\n",
              "      <th>Pclass</th>\n",
              "      <th>Sex</th>\n",
              "      <th>Age</th>\n",
              "      <th>SibSp</th>\n",
              "      <th>Parch</th>\n",
              "      <th>Embarked</th>\n",
              "    </tr>\n",
              "  </thead>\n",
              "  <tbody>\n",
              "    <tr>\n",
              "      <th>0</th>\n",
              "      <td>0</td>\n",
              "      <td>3</td>\n",
              "      <td>male</td>\n",
              "      <td>22.0</td>\n",
              "      <td>1</td>\n",
              "      <td>0</td>\n",
              "      <td>S</td>\n",
              "    </tr>\n",
              "    <tr>\n",
              "      <th>1</th>\n",
              "      <td>1</td>\n",
              "      <td>1</td>\n",
              "      <td>female</td>\n",
              "      <td>38.0</td>\n",
              "      <td>1</td>\n",
              "      <td>0</td>\n",
              "      <td>C</td>\n",
              "    </tr>\n",
              "    <tr>\n",
              "      <th>2</th>\n",
              "      <td>1</td>\n",
              "      <td>3</td>\n",
              "      <td>female</td>\n",
              "      <td>26.0</td>\n",
              "      <td>0</td>\n",
              "      <td>0</td>\n",
              "      <td>S</td>\n",
              "    </tr>\n",
              "    <tr>\n",
              "      <th>3</th>\n",
              "      <td>1</td>\n",
              "      <td>1</td>\n",
              "      <td>female</td>\n",
              "      <td>35.0</td>\n",
              "      <td>1</td>\n",
              "      <td>0</td>\n",
              "      <td>S</td>\n",
              "    </tr>\n",
              "    <tr>\n",
              "      <th>4</th>\n",
              "      <td>0</td>\n",
              "      <td>3</td>\n",
              "      <td>male</td>\n",
              "      <td>35.0</td>\n",
              "      <td>0</td>\n",
              "      <td>0</td>\n",
              "      <td>S</td>\n",
              "    </tr>\n",
              "  </tbody>\n",
              "</table>\n",
              "</div>"
            ],
            "text/plain": [
              "   Survived  Pclass     Sex   Age  SibSp  Parch Embarked\n",
              "0         0       3    male  22.0      1      0        S\n",
              "1         1       1  female  38.0      1      0        C\n",
              "2         1       3  female  26.0      0      0        S\n",
              "3         1       1  female  35.0      1      0        S\n",
              "4         0       3    male  35.0      0      0        S"
            ]
          },
          "metadata": {
            "tags": []
          },
          "execution_count": 66
        }
      ]
    },
    {
      "cell_type": "code",
      "metadata": {
        "colab": {
          "base_uri": "https://localhost:8080/",
          "height": 394
        },
        "id": "aK6M484fu6nO",
        "outputId": "5194e395-05c4-4c9e-c30a-b72d8a0ffec4"
      },
      "source": [
        "# Describing the whole data\r\n",
        "train.describe(include=\"all\")"
      ],
      "execution_count": 67,
      "outputs": [
        {
          "output_type": "execute_result",
          "data": {
            "text/html": [
              "<div>\n",
              "<style scoped>\n",
              "    .dataframe tbody tr th:only-of-type {\n",
              "        vertical-align: middle;\n",
              "    }\n",
              "\n",
              "    .dataframe tbody tr th {\n",
              "        vertical-align: top;\n",
              "    }\n",
              "\n",
              "    .dataframe thead th {\n",
              "        text-align: right;\n",
              "    }\n",
              "</style>\n",
              "<table border=\"1\" class=\"dataframe\">\n",
              "  <thead>\n",
              "    <tr style=\"text-align: right;\">\n",
              "      <th></th>\n",
              "      <th>Survived</th>\n",
              "      <th>Pclass</th>\n",
              "      <th>Sex</th>\n",
              "      <th>Age</th>\n",
              "      <th>SibSp</th>\n",
              "      <th>Parch</th>\n",
              "      <th>Embarked</th>\n",
              "    </tr>\n",
              "  </thead>\n",
              "  <tbody>\n",
              "    <tr>\n",
              "      <th>count</th>\n",
              "      <td>891.000000</td>\n",
              "      <td>891.000000</td>\n",
              "      <td>891</td>\n",
              "      <td>714.000000</td>\n",
              "      <td>891.000000</td>\n",
              "      <td>891.000000</td>\n",
              "      <td>889</td>\n",
              "    </tr>\n",
              "    <tr>\n",
              "      <th>unique</th>\n",
              "      <td>NaN</td>\n",
              "      <td>NaN</td>\n",
              "      <td>2</td>\n",
              "      <td>NaN</td>\n",
              "      <td>NaN</td>\n",
              "      <td>NaN</td>\n",
              "      <td>3</td>\n",
              "    </tr>\n",
              "    <tr>\n",
              "      <th>top</th>\n",
              "      <td>NaN</td>\n",
              "      <td>NaN</td>\n",
              "      <td>male</td>\n",
              "      <td>NaN</td>\n",
              "      <td>NaN</td>\n",
              "      <td>NaN</td>\n",
              "      <td>S</td>\n",
              "    </tr>\n",
              "    <tr>\n",
              "      <th>freq</th>\n",
              "      <td>NaN</td>\n",
              "      <td>NaN</td>\n",
              "      <td>577</td>\n",
              "      <td>NaN</td>\n",
              "      <td>NaN</td>\n",
              "      <td>NaN</td>\n",
              "      <td>644</td>\n",
              "    </tr>\n",
              "    <tr>\n",
              "      <th>mean</th>\n",
              "      <td>0.383838</td>\n",
              "      <td>2.308642</td>\n",
              "      <td>NaN</td>\n",
              "      <td>29.699118</td>\n",
              "      <td>0.523008</td>\n",
              "      <td>0.381594</td>\n",
              "      <td>NaN</td>\n",
              "    </tr>\n",
              "    <tr>\n",
              "      <th>std</th>\n",
              "      <td>0.486592</td>\n",
              "      <td>0.836071</td>\n",
              "      <td>NaN</td>\n",
              "      <td>14.526497</td>\n",
              "      <td>1.102743</td>\n",
              "      <td>0.806057</td>\n",
              "      <td>NaN</td>\n",
              "    </tr>\n",
              "    <tr>\n",
              "      <th>min</th>\n",
              "      <td>0.000000</td>\n",
              "      <td>1.000000</td>\n",
              "      <td>NaN</td>\n",
              "      <td>0.420000</td>\n",
              "      <td>0.000000</td>\n",
              "      <td>0.000000</td>\n",
              "      <td>NaN</td>\n",
              "    </tr>\n",
              "    <tr>\n",
              "      <th>25%</th>\n",
              "      <td>0.000000</td>\n",
              "      <td>2.000000</td>\n",
              "      <td>NaN</td>\n",
              "      <td>20.125000</td>\n",
              "      <td>0.000000</td>\n",
              "      <td>0.000000</td>\n",
              "      <td>NaN</td>\n",
              "    </tr>\n",
              "    <tr>\n",
              "      <th>50%</th>\n",
              "      <td>0.000000</td>\n",
              "      <td>3.000000</td>\n",
              "      <td>NaN</td>\n",
              "      <td>28.000000</td>\n",
              "      <td>0.000000</td>\n",
              "      <td>0.000000</td>\n",
              "      <td>NaN</td>\n",
              "    </tr>\n",
              "    <tr>\n",
              "      <th>75%</th>\n",
              "      <td>1.000000</td>\n",
              "      <td>3.000000</td>\n",
              "      <td>NaN</td>\n",
              "      <td>38.000000</td>\n",
              "      <td>1.000000</td>\n",
              "      <td>0.000000</td>\n",
              "      <td>NaN</td>\n",
              "    </tr>\n",
              "    <tr>\n",
              "      <th>max</th>\n",
              "      <td>1.000000</td>\n",
              "      <td>3.000000</td>\n",
              "      <td>NaN</td>\n",
              "      <td>80.000000</td>\n",
              "      <td>8.000000</td>\n",
              "      <td>6.000000</td>\n",
              "      <td>NaN</td>\n",
              "    </tr>\n",
              "  </tbody>\n",
              "</table>\n",
              "</div>"
            ],
            "text/plain": [
              "          Survived      Pclass   Sex  ...       SibSp       Parch  Embarked\n",
              "count   891.000000  891.000000   891  ...  891.000000  891.000000       889\n",
              "unique         NaN         NaN     2  ...         NaN         NaN         3\n",
              "top            NaN         NaN  male  ...         NaN         NaN         S\n",
              "freq           NaN         NaN   577  ...         NaN         NaN       644\n",
              "mean      0.383838    2.308642   NaN  ...    0.523008    0.381594       NaN\n",
              "std       0.486592    0.836071   NaN  ...    1.102743    0.806057       NaN\n",
              "min       0.000000    1.000000   NaN  ...    0.000000    0.000000       NaN\n",
              "25%       0.000000    2.000000   NaN  ...    0.000000    0.000000       NaN\n",
              "50%       0.000000    3.000000   NaN  ...    0.000000    0.000000       NaN\n",
              "75%       1.000000    3.000000   NaN  ...    1.000000    0.000000       NaN\n",
              "max       1.000000    3.000000   NaN  ...    8.000000    6.000000       NaN\n",
              "\n",
              "[11 rows x 7 columns]"
            ]
          },
          "metadata": {
            "tags": []
          },
          "execution_count": 67
        }
      ]
    },
    {
      "cell_type": "code",
      "metadata": {
        "id": "p_Bd7HwWqa7t",
        "colab": {
          "base_uri": "https://localhost:8080/"
        },
        "outputId": "e3321c01-e5e1-4835-8dec-94f0d1b233b6"
      },
      "source": [
        "# Checking for presence of missing data in the data\n",
        "missing_count = train.isnull().sum() # the count of missing values\n",
        "value_count = train.isnull().count() # count of all missing values\n",
        "missing_percentage = round(missing_count/value_count*100,2) # Percentage of missing values\n",
        "missing_df = pd.DataFrame({'count': missing_count, 'percentage': missing_percentage})\n",
        "print(missing_df)"
      ],
      "execution_count": 68,
      "outputs": [
        {
          "output_type": "stream",
          "text": [
            "          count  percentage\n",
            "Survived      0        0.00\n",
            "Pclass        0        0.00\n",
            "Sex           0        0.00\n",
            "Age         177       19.87\n",
            "SibSp         0        0.00\n",
            "Parch         0        0.00\n",
            "Embarked      2        0.22\n"
          ],
          "name": "stdout"
        }
      ]
    },
    {
      "cell_type": "code",
      "metadata": {
        "colab": {
          "base_uri": "https://localhost:8080/",
          "height": 306
        },
        "id": "nb-WlqVDx9u_",
        "outputId": "cdbb04d9-437e-4c65-e66b-d25f4e33689c"
      },
      "source": [
        "barchart = missing_df.plot.bar(y='percentage')\r\n",
        "for index, percentage in enumerate(missing_percentage):\r\n",
        "  barchart.text(index, percentage, str(percentage) + '%')"
      ],
      "execution_count": 69,
      "outputs": [
        {
          "output_type": "display_data",
          "data": {
            "image/png": "[encoded data removed]",
            "text/plain": [
              "<Figure size 432x288 with 1 Axes>"
            ]
          },
          "metadata": {
            "tags": [],
            "needs_background": "light"
          }
        }
      ]
    },
    {
      "cell_type": "markdown",
      "metadata": {
        "id": "_XUKPow0vKLh"
      },
      "source": [
        "* The 'Age' column has got 19.87% values missing and the 'Embarked' has got 0.22% of its value missing\n",
        "* The missing values in the 'Age' column can be filled using the median age\n",
        "* The missing values in the 'Embarked' column can be filled with the most appearing values"
      ]
    },
    {
      "cell_type": "code",
      "metadata": {
        "id": "uHVTPOmLp7gs"
      },
      "source": [
        "# Filling the missing values in the 'Age' column\n",
        "train['Age'] = train['Age'].fillna(train.Age.median())"
      ],
      "execution_count": 70,
      "outputs": []
    },
    {
      "cell_type": "code",
      "metadata": {
        "id": "GfudT0ogzVdq",
        "colab": {
          "base_uri": "https://localhost:8080/"
        },
        "outputId": "acd3b194-69a9-404d-eac1-89c4405abffd"
      },
      "source": [
        "# Finding the modal entry in the Embarkment colum\n",
        "train.Embarked.mode()"
      ],
      "execution_count": 71,
      "outputs": [
        {
          "output_type": "execute_result",
          "data": {
            "text/plain": [
              "0    S\n",
              "dtype: object"
            ]
          },
          "metadata": {
            "tags": []
          },
          "execution_count": 71
        }
      ]
    },
    {
      "cell_type": "code",
      "metadata": {
        "id": "zb_vM6Eh5C_J"
      },
      "source": [
        "# Filling in the modal value into the 'Embarkment' values to the missing values\n",
        "train['Embarked'] = train['Embarked'].fillna('S')"
      ],
      "execution_count": 72,
      "outputs": []
    },
    {
      "cell_type": "code",
      "metadata": {
        "colab": {
          "base_uri": "https://localhost:8080/"
        },
        "id": "1q_FmPCOCOc9",
        "outputId": "31b7d853-f515-4a5b-ed69-7bdd4a9a8125"
      },
      "source": [
        "# Identifying the unique values in each case\r\n",
        "\r\n",
        "print('Survived: ', train.Survived.unique())\r\n",
        "print('Pclass: ' ,train.Pclass.unique())\r\n",
        "print('Sex:' ,train.Sex.unique())\r\n",
        "print('SibSp: ' ,train.SibSp.unique())\r\n",
        "print('Parch: ', train.Parch.unique())\r\n",
        "print('Embarked: ' ,train.Embarked.unique())"
      ],
      "execution_count": 80,
      "outputs": [
        {
          "output_type": "stream",
          "text": [
            "Survived:  [0, 1]\n",
            "Categories (2, int64): [0, 1]\n",
            "Pclass:  [3, 1, 2]\n",
            "Categories (3, int64): [3, 1, 2]\n",
            "Sex: ['male', 'female']\n",
            "Categories (2, object): ['male', 'female']\n",
            "SibSp:  [1, 0, 3, 4, 2, 5, 8]\n",
            "Categories (7, int64): [1, 0, 3, 4, 2, 5, 8]\n",
            "Parch:  [0, 1, 2, 5, 3, 4, 6]\n",
            "Categories (7, int64): [0, 1, 2, 5, 3, 4, 6]\n",
            "Embarked:  ['S', 'C', 'Q']\n",
            "Categories (3, object): ['S', 'C', 'Q']\n"
          ],
          "name": "stdout"
        }
      ]
    },
    {
      "cell_type": "markdown",
      "metadata": {
        "id": "I-R7IluyDsP9"
      },
      "source": [
        "* Survived, Pclass, Sex, SibSp, Parch and Embarked should be of type object\r\n",
        "* Age is of type numeric"
      ]
    },
    {
      "cell_type": "code",
      "metadata": {
        "colab": {
          "base_uri": "https://localhost:8080/"
        },
        "id": "asRHtScaEFU1",
        "outputId": "7c3f6172-8b7b-4216-acd9-3ea40a14eb5c"
      },
      "source": [
        "train.dtypes"
      ],
      "execution_count": 74,
      "outputs": [
        {
          "output_type": "execute_result",
          "data": {
            "text/plain": [
              "Survived      int64\n",
              "Pclass        int64\n",
              "Sex          object\n",
              "Age         float64\n",
              "SibSp         int64\n",
              "Parch         int64\n",
              "Embarked     object\n",
              "dtype: object"
            ]
          },
          "metadata": {
            "tags": []
          },
          "execution_count": 74
        }
      ]
    },
    {
      "cell_type": "code",
      "metadata": {
        "id": "Axt7ItanEJ-F"
      },
      "source": [
        "# Converting the columns to type object\r\n",
        "cols = ['Survived', 'Pclass', 'Sex', 'SibSp', 'Parch', 'Embarked']\r\n",
        "for col in cols:\r\n",
        "  train[col] = train[col].astype('category')"
      ],
      "execution_count": 75,
      "outputs": []
    },
    {
      "cell_type": "code",
      "metadata": {
        "colab": {
          "base_uri": "https://localhost:8080/"
        },
        "id": "SkVxgZIOGCik",
        "outputId": "fc763369-2af5-4788-c8e4-e12a3bfef9a3"
      },
      "source": [
        "train.dtypes"
      ],
      "execution_count": 76,
      "outputs": [
        {
          "output_type": "execute_result",
          "data": {
            "text/plain": [
              "Survived    category\n",
              "Pclass      category\n",
              "Sex         category\n",
              "Age          float64\n",
              "SibSp       category\n",
              "Parch       category\n",
              "Embarked    category\n",
              "dtype: object"
            ]
          },
          "metadata": {
            "tags": []
          },
          "execution_count": 76
        }
      ]
    },
    {
      "cell_type": "markdown",
      "metadata": {
        "id": "zfxKlTuiefZH"
      },
      "source": [
        "* Since the data is mainly categorical, correlation matrix is not useful in investigating the relationship between the variables"
      ]
    },
    {
      "cell_type": "code",
      "metadata": {
        "id": "UCVw790P0R7Q",
        "colab": {
          "base_uri": "https://localhost:8080/"
        },
        "outputId": "37c53d06-ee1d-431e-ed8d-797894e9eb8d"
      },
      "source": [
        "# Checking the missing values once more\n",
        "train.isnull().sum()"
      ],
      "execution_count": 77,
      "outputs": [
        {
          "output_type": "execute_result",
          "data": {
            "text/plain": [
              "Survived    0\n",
              "Pclass      0\n",
              "Sex         0\n",
              "Age         0\n",
              "SibSp       0\n",
              "Parch       0\n",
              "Embarked    0\n",
              "dtype: int64"
            ]
          },
          "metadata": {
            "tags": []
          },
          "execution_count": 77
        }
      ]
    },
    {
      "cell_type": "markdown",
      "metadata": {
        "id": "StJANrBw0tP4"
      },
      "source": [
        "## UNIVARIATE ANALYSIS"
      ]
    },
    {
      "cell_type": "markdown",
      "metadata": {
        "id": "nWnvkUXDLhwV"
      },
      "source": [
        "### Categorical Variables"
      ]
    },
    {
      "cell_type": "code",
      "metadata": {
        "colab": {
          "base_uri": "https://localhost:8080/",
          "height": 1000
        },
        "id": "rMnqPK9pLhHU",
        "outputId": "19628b83-8ffe-4d5f-e2d0-f1e5a2b1b8dd"
      },
      "source": [
        "for col in cols:\r\n",
        "  plt.figure(col)\r\n",
        "  plt.title(col)\r\n",
        "  train[col].value_counts().plot(kind='bar')"
      ],
      "execution_count": 53,
      "outputs": [
        {
          "output_type": "display_data",
          "data": {
            "image/png": "[encoded data removed]",
            "text/plain": [
              "<Figure size 432x288 with 1 Axes>"
            ]
          },
          "metadata": {
            "tags": [],
            "needs_background": "light"
          }
        },
        {
          "output_type": "display_data",
          "data": {
            "image/png": "[encoded data removed]",
            "text/plain": [
              "<Figure size 432x288 with 1 Axes>"
            ]
          },
          "metadata": {
            "tags": [],
            "needs_background": "light"
          }
        },
        {
          "output_type": "display_data",
          "data": {
            "image/png": "[encoded data removed]",
            "text/plain": [
              "<Figure size 432x288 with 1 Axes>"
            ]
          },
          "metadata": {
            "tags": [],
            "needs_background": "light"
          }
        },
        {
          "output_type": "display_data",
          "data": {
            "image/png": "[encoded data removed]",
            "text/plain": [
              "<Figure size 432x288 with 1 Axes>"
            ]
          },
          "metadata": {
            "tags": [],
            "needs_background": "light"
          }
        },
        {
          "output_type": "display_data",
          "data": {
            "image/png": "[encoded data removed]",
            "text/plain": [
              "<Figure size 432x288 with 1 Axes>"
            ]
          },
          "metadata": {
            "tags": [],
            "needs_background": "light"
          }
        },
        {
          "output_type": "display_data",
          "data": {
            "image/png": "[encoded data removed]",
            "text/plain": [
              "<Figure size 432x288 with 1 Axes>"
            ]
          },
          "metadata": {
            "tags": [],
            "needs_background": "light"
          }
        }
      ]
    },
    {
      "cell_type": "markdown",
      "metadata": {
        "id": "dI1RbY1iOizE"
      },
      "source": [
        "**Observations**\r\n",
        "* Most people perished\r\n",
        "* Majority boarded PClass 3\r\n",
        "* Majority of those in the ship were male\r\n",
        "* SibSp was the most common one\r\n",
        "* Parch 0 was the most popular\r\n",
        "* Embarked S was the most common one"
      ]
    },
    {
      "cell_type": "markdown",
      "metadata": {
        "id": "-Lp7LuBaL7rM"
      },
      "source": [
        "### Numeric"
      ]
    },
    {
      "cell_type": "code",
      "metadata": {
        "colab": {
          "base_uri": "https://localhost:8080/",
          "height": 299
        },
        "id": "dYIbGNNn0yJ1",
        "outputId": "7ee660d1-7459-4418-b4cd-a1783a772d0a"
      },
      "source": [
        "plt.figure('Age')\r\n",
        "plt.title('Age')\r\n",
        "train['Age'].plot(kind='hist')"
      ],
      "execution_count": 54,
      "outputs": [
        {
          "output_type": "execute_result",
          "data": {
            "text/plain": [
              "<matplotlib.axes._subplots.AxesSubplot at 0x7ff7b8866390>"
            ]
          },
          "metadata": {
            "tags": []
          },
          "execution_count": 54
        },
        {
          "output_type": "display_data",
          "data": {
            "image/png": "[encoded data removed]",
            "text/plain": [
              "<Figure size 432x288 with 1 Axes>"
            ]
          },
          "metadata": {
            "tags": [],
            "needs_background": "light"
          }
        }
      ]
    },
    {
      "cell_type": "code",
      "metadata": {
        "colab": {
          "base_uri": "https://localhost:8080/",
          "height": 283
        },
        "id": "JdE_V6fRPq87",
        "outputId": "32fe9bc3-c113-47d2-efe1-3ef536c6ab56"
      },
      "source": [
        "# Checking for outliers\r\n",
        "sns.boxplot(data = train['Age'],orient=\"v\")\r\n",
        "plt.ylabel(\"Age\")"
      ],
      "execution_count": 56,
      "outputs": [
        {
          "output_type": "execute_result",
          "data": {
            "text/plain": [
              "Text(0, 0.5, 'Age')"
            ]
          },
          "metadata": {
            "tags": []
          },
          "execution_count": 56
        },
        {
          "output_type": "display_data",
          "data": {
            "image/png": "[encoded data removed]",
            "text/plain": [
              "<Figure size 432x288 with 1 Axes>"
            ]
          },
          "metadata": {
            "tags": [],
            "needs_background": "light"
          }
        }
      ]
    },
    {
      "cell_type": "markdown",
      "metadata": {
        "id": "4DJ6EqQTPPjs"
      },
      "source": [
        "* Majority of those who boarded the ship were of between ages 15 years and 45 years\r\n",
        "* There were few individuals aged over 67 years on board"
      ]
    },
    {
      "cell_type": "markdown",
      "metadata": {
        "id": "0GB7c99zSk3D"
      },
      "source": [
        "## BIVARIATE ANALYSIS"
      ]
    },
    {
      "cell_type": "code",
      "metadata": {
        "colab": {
          "base_uri": "https://localhost:8080/"
        },
        "id": "b3dhtO8ZVZg7",
        "outputId": "559c66ea-662a-4f7c-df0f-3c1952d9f98e"
      },
      "source": [
        "train.columns"
      ],
      "execution_count": 84,
      "outputs": [
        {
          "output_type": "execute_result",
          "data": {
            "text/plain": [
              "Index(['Survived', 'Pclass', 'Sex', 'Age', 'SibSp', 'Parch', 'Embarked'], dtype='object')"
            ]
          },
          "metadata": {
            "tags": []
          },
          "execution_count": 84
        }
      ]
    },
    {
      "cell_type": "code",
      "metadata": {
        "id": "7zz61E7075hr",
        "colab": {
          "base_uri": "https://localhost:8080/",
          "height": 279
        },
        "outputId": "9f341529-68ad-429d-f866-6b495cf525be"
      },
      "source": [
        "# Pclass vs Survived\n",
        "sns.countplot(x ='Pclass', data = train, hue='Survived') \n",
        "plt.show() "
      ],
      "execution_count": null,
      "outputs": [
        {
          "output_type": "display_data",
          "data": {
            "image/png": "[encoded data removed]",
            "text/plain": [
              "<Figure size 432x288 with 1 Axes>"
            ]
          },
          "metadata": {
            "tags": [],
            "needs_background": "light"
          }
        }
      ]
    },
    {
      "cell_type": "markdown",
      "metadata": {
        "id": "OcgLtaxV-3WX"
      },
      "source": [
        "* The probability of survival was high from **Pclass 1** than in any other class, this was however lowest in **Pclass 3**"
      ]
    },
    {
      "cell_type": "code",
      "metadata": {
        "id": "8CxSgjFj75OW",
        "colab": {
          "base_uri": "https://localhost:8080/",
          "height": 279
        },
        "outputId": "dbc41542-069e-41e6-ff39-a660e36a2ff8"
      },
      "source": [
        "# Sex vs Survived\n",
        "sns.countplot(x ='Sex', data = train, hue='Survived') \n",
        "plt.show() "
      ],
      "execution_count": null,
      "outputs": [
        {
          "output_type": "display_data",
          "data": {
            "image/png": "[encoded data removed]",
            "text/plain": [
              "<Figure size 432x288 with 1 Axes>"
            ]
          },
          "metadata": {
            "tags": [],
            "needs_background": "light"
          }
        }
      ]
    },
    {
      "cell_type": "markdown",
      "metadata": {
        "id": "ydIXtOJp-icX"
      },
      "source": [
        "* More female survived than males"
      ]
    },
    {
      "cell_type": "code",
      "metadata": {
        "id": "LwMckrVw75oV",
        "colab": {
          "base_uri": "https://localhost:8080/",
          "height": 279
        },
        "outputId": "974a4b92-cd91-4d69-e50e-c7674f732861"
      },
      "source": [
        "# SibSp Vs Survived\n",
        "sns.countplot(x ='SibSp', data = train, hue='Survived') \n",
        "plt.show() "
      ],
      "execution_count": null,
      "outputs": [
        {
          "output_type": "display_data",
          "data": {
            "image/png": "[encoded data removed]",
            "text/plain": [
              "<Figure size 432x288 with 1 Axes>"
            ]
          },
          "metadata": {
            "tags": [],
            "needs_background": "light"
          }
        }
      ]
    },
    {
      "cell_type": "markdown",
      "metadata": {
        "id": "BK3jt9SQCaD3"
      },
      "source": [
        "* Seemingly survival does not depend on SibSp. However, this will be investigated with the correlation coefficient"
      ]
    },
    {
      "cell_type": "code",
      "metadata": {
        "id": "Lfa4w7wM75wC",
        "colab": {
          "base_uri": "https://localhost:8080/",
          "height": 279
        },
        "outputId": "1f8cc1dd-ea06-4fea-c596-2e9ab8972873"
      },
      "source": [
        "# Parch Vs Survived\n",
        "sns.countplot(x ='Parch', data = train, hue='Survived') \n",
        "plt.show() "
      ],
      "execution_count": null,
      "outputs": [
        {
          "output_type": "display_data",
          "data": {
            "image/png": "[encoded data removed]",
            "text/plain": [
              "<Figure size 432x288 with 1 Axes>"
            ]
          },
          "metadata": {
            "tags": [],
            "needs_background": "light"
          }
        }
      ]
    },
    {
      "cell_type": "markdown",
      "metadata": {
        "id": "zmMX8VvCC0eA"
      },
      "source": [
        "* The number of persons who survived was highest in Parch 0, followed by 1 and so on"
      ]
    },
    {
      "cell_type": "code",
      "metadata": {
        "id": "MfFylZxqDALt",
        "colab": {
          "base_uri": "https://localhost:8080/",
          "height": 279
        },
        "outputId": "bd8bec5e-fb23-4054-8e9b-bfda2de29e1a"
      },
      "source": [
        "# Embarked Vs Survived\n",
        "sns.countplot(x ='Embarked', data = train, hue='Survived') \n",
        "plt.show() "
      ],
      "execution_count": null,
      "outputs": [
        {
          "output_type": "display_data",
          "data": {
            "image/png": "[encoded data removed]",
            "text/plain": [
              "<Figure size 432x288 with 1 Axes>"
            ]
          },
          "metadata": {
            "tags": [],
            "needs_background": "light"
          }
        }
      ]
    },
    {
      "cell_type": "markdown",
      "metadata": {
        "id": "p_T-NqpnDOkH"
      },
      "source": [
        "* The number of persons who survived was higher in Embarked S, followed by C then finally Q"
      ]
    },
    {
      "cell_type": "markdown",
      "metadata": {
        "id": "v_2ArSqlhUls"
      },
      "source": [
        "## MODEL"
      ]
    },
    {
      "cell_type": "markdown",
      "metadata": {
        "id": "_yeUCWCJhtb7"
      },
      "source": [
        "This is a **classification** problem."
      ]
    },
    {
      "cell_type": "markdown",
      "metadata": {
        "id": "gFL0-Z5ZrsCT"
      },
      "source": [
        "Label Encoding"
      ]
    },
    {
      "cell_type": "code",
      "metadata": {
        "id": "QSF5WgUyrxrc"
      },
      "source": [
        "labelEncoder = LabelEncoder()\r\n",
        "train['Sex'] = labelEncoder.fit_transform(train['Sex'])\r\n",
        "train['Embarked'] = labelEncoder.fit_transform(train['Embarked'])"
      ],
      "execution_count": 99,
      "outputs": []
    },
    {
      "cell_type": "code",
      "metadata": {
        "id": "Ez0pNPqlhl5T"
      },
      "source": [
        "# Splitting our dataset into its attributes and labels\r\n",
        "X = train.iloc[:, 1:]\r\n",
        "y = train.iloc[:, :1]"
      ],
      "execution_count": 100,
      "outputs": []
    },
    {
      "cell_type": "code",
      "metadata": {
        "id": "-KsdrTXXimYj"
      },
      "source": [
        "# Train Test Split\r\n",
        "from sklearn.model_selection import train_test_split\r\n",
        "X_train, X_test, y_train, y_test = train_test_split(X, y, test_size=0.20)"
      ],
      "execution_count": 101,
      "outputs": []
    },
    {
      "cell_type": "code",
      "metadata": {
        "id": "luoSpUqTjSej"
      },
      "source": [
        "# Feature Scaling\r\n",
        "from sklearn.preprocessing import StandardScaler\r\n",
        "scaler = StandardScaler()\r\n",
        "scaler.fit(X_train)\r\n",
        "\r\n",
        "X_train = scaler.transform(X_train)\r\n",
        "X_test = scaler.transform(X_test)"
      ],
      "execution_count": 102,
      "outputs": []
    },
    {
      "cell_type": "code",
      "metadata": {
        "colab": {
          "base_uri": "https://localhost:8080/"
        },
        "id": "CGEgVxf7jV1y",
        "outputId": "0ac53de5-7ca1-4758-de97-a161f81c0d37"
      },
      "source": [
        "# Training and Predictions\r\n",
        "\r\n",
        "from sklearn.neighbors import KNeighborsClassifier\r\n",
        "classifier = KNeighborsClassifier(n_neighbors=5)\r\n",
        "classifier.fit(X_train, y_train)"
      ],
      "execution_count": 103,
      "outputs": [
        {
          "output_type": "stream",
          "text": [
            "/usr/local/lib/python3.7/dist-packages/ipykernel_launcher.py:5: DataConversionWarning: A column-vector y was passed when a 1d array was expected. Please change the shape of y to (n_samples, ), for example using ravel().\n",
            "  \"\"\"\n"
          ],
          "name": "stderr"
        },
        {
          "output_type": "execute_result",
          "data": {
            "text/plain": [
              "KNeighborsClassifier(algorithm='auto', leaf_size=30, metric='minkowski',\n",
              "                     metric_params=None, n_jobs=None, n_neighbors=5, p=2,\n",
              "                     weights='uniform')"
            ]
          },
          "metadata": {
            "tags": []
          },
          "execution_count": 103
        }
      ]
    },
    {
      "cell_type": "code",
      "metadata": {
        "id": "wzlELjlor797"
      },
      "source": [
        "# Making predictions on our test data\r\n",
        "y_pred = classifier.predict(X_test)"
      ],
      "execution_count": 104,
      "outputs": []
    },
    {
      "cell_type": "code",
      "metadata": {
        "colab": {
          "base_uri": "https://localhost:8080/"
        },
        "id": "XUgvjfchsS2y",
        "outputId": "ee0d26bd-7ee4-455f-a679-cb5e83d36656"
      },
      "source": [
        "# Evaluating the Algorithm\r\n",
        "from sklearn.metrics import classification_report, confusion_matrix\r\n",
        "print(confusion_matrix(y_test, y_pred))\r\n",
        "print(classification_report(y_test, y_pred))"
      ],
      "execution_count": 105,
      "outputs": [
        {
          "output_type": "stream",
          "text": [
            "[[96 14]\n",
            " [28 41]]\n",
            "              precision    recall  f1-score   support\n",
            "\n",
            "           0       0.77      0.87      0.82       110\n",
            "           1       0.75      0.59      0.66        69\n",
            "\n",
            "    accuracy                           0.77       179\n",
            "   macro avg       0.76      0.73      0.74       179\n",
            "weighted avg       0.76      0.77      0.76       179\n",
            "\n"
          ],
          "name": "stdout"
        }
      ]
    },
    {
      "cell_type": "markdown",
      "metadata": {
        "id": "bBF3w2RgT9SY"
      },
      "source": [
        "**Alternative Split Sizes of the Test Data and Different k-values**\n",
        "\n",
        "* The data shall be split into 80 - 20, 70 - 30 and 60 - 40 trainiing and testing datasets whih chall be evaluated separately"
      ]
    },
    {
      "cell_type": "code",
      "metadata": {
        "id": "mVCBfvyBQGgJ",
        "colab": {
          "base_uri": "https://localhost:8080/"
        },
        "outputId": "4fe32aa3-7e11-4bb1-9877-95d50c5b6c12"
      },
      "source": [
        "# Splitting the dataset\n",
        "\n",
        "# Various test dataset sizes 20%, 30% and 40%\n",
        "test_sizes = [0.2, 0.3, 0.4]\n",
        "for size in test_sizes:\n",
        "\n",
        "  # Splitter function\n",
        "  X_train, X_test, y_train, y_test = train_test_split(X, y, test_size=size, random_state=1)\n",
        "\n",
        "  # Number of neighbors\n",
        "  k_range = range(1, 10)\n",
        "\n",
        "  scores = {}\n",
        "  \n",
        "  print('')\n",
        "  print('Test size: ', size*100,'%')\n",
        "\n",
        "  # Fitting and evaluating the model\n",
        "  for k in k_range:\n",
        "    knn = KNeighborsClassifier(n_neighbors=k)\n",
        "    knn.fit(X_train, y_train)\n",
        "    y_pred = knn.predict(X_test)\n",
        "    scores.update({k : metrics.accuracy_score(y_test, y_pred)})\n",
        "  print(scores)"
      ],
      "execution_count": 108,
      "outputs": [
        {
          "output_type": "stream",
          "text": [
            "\n",
            "Test size:  20.0 %\n",
            "{1: 0.6983240223463687, 2: 0.7150837988826816, 3: 0.7541899441340782, 4: 0.7374301675977654, 5: 0.7374301675977654, 6: 0.7318435754189944, 7: 0.7318435754189944, 8: 0.7094972067039106, 9: 0.7206703910614525}\n",
            "\n",
            "Test size:  30.0 %\n"
          ],
          "name": "stdout"
        },
        {
          "output_type": "stream",
          "text": [
            "/usr/local/lib/python3.7/dist-packages/ipykernel_launcher.py:21: DataConversionWarning: A column-vector y was passed when a 1d array was expected. Please change the shape of y to (n_samples, ), for example using ravel().\n",
            "/usr/local/lib/python3.7/dist-packages/ipykernel_launcher.py:21: DataConversionWarning: A column-vector y was passed when a 1d array was expected. Please change the shape of y to (n_samples, ), for example using ravel().\n",
            "/usr/local/lib/python3.7/dist-packages/ipykernel_launcher.py:21: DataConversionWarning: A column-vector y was passed when a 1d array was expected. Please change the shape of y to (n_samples, ), for example using ravel().\n",
            "/usr/local/lib/python3.7/dist-packages/ipykernel_launcher.py:21: DataConversionWarning: A column-vector y was passed when a 1d array was expected. Please change the shape of y to (n_samples, ), for example using ravel().\n",
            "/usr/local/lib/python3.7/dist-packages/ipykernel_launcher.py:21: DataConversionWarning: A column-vector y was passed when a 1d array was expected. Please change the shape of y to (n_samples, ), for example using ravel().\n",
            "/usr/local/lib/python3.7/dist-packages/ipykernel_launcher.py:21: DataConversionWarning: A column-vector y was passed when a 1d array was expected. Please change the shape of y to (n_samples, ), for example using ravel().\n",
            "/usr/local/lib/python3.7/dist-packages/ipykernel_launcher.py:21: DataConversionWarning: A column-vector y was passed when a 1d array was expected. Please change the shape of y to (n_samples, ), for example using ravel().\n",
            "/usr/local/lib/python3.7/dist-packages/ipykernel_launcher.py:21: DataConversionWarning: A column-vector y was passed when a 1d array was expected. Please change the shape of y to (n_samples, ), for example using ravel().\n",
            "/usr/local/lib/python3.7/dist-packages/ipykernel_launcher.py:21: DataConversionWarning: A column-vector y was passed when a 1d array was expected. Please change the shape of y to (n_samples, ), for example using ravel().\n",
            "/usr/local/lib/python3.7/dist-packages/ipykernel_launcher.py:21: DataConversionWarning: A column-vector y was passed when a 1d array was expected. Please change the shape of y to (n_samples, ), for example using ravel().\n",
            "/usr/local/lib/python3.7/dist-packages/ipykernel_launcher.py:21: DataConversionWarning: A column-vector y was passed when a 1d array was expected. Please change the shape of y to (n_samples, ), for example using ravel().\n",
            "/usr/local/lib/python3.7/dist-packages/ipykernel_launcher.py:21: DataConversionWarning: A column-vector y was passed when a 1d array was expected. Please change the shape of y to (n_samples, ), for example using ravel().\n",
            "/usr/local/lib/python3.7/dist-packages/ipykernel_launcher.py:21: DataConversionWarning: A column-vector y was passed when a 1d array was expected. Please change the shape of y to (n_samples, ), for example using ravel().\n",
            "/usr/local/lib/python3.7/dist-packages/ipykernel_launcher.py:21: DataConversionWarning: A column-vector y was passed when a 1d array was expected. Please change the shape of y to (n_samples, ), for example using ravel().\n",
            "/usr/local/lib/python3.7/dist-packages/ipykernel_launcher.py:21: DataConversionWarning: A column-vector y was passed when a 1d array was expected. Please change the shape of y to (n_samples, ), for example using ravel().\n",
            "/usr/local/lib/python3.7/dist-packages/ipykernel_launcher.py:21: DataConversionWarning: A column-vector y was passed when a 1d array was expected. Please change the shape of y to (n_samples, ), for example using ravel().\n"
          ],
          "name": "stderr"
        },
        {
          "output_type": "stream",
          "text": [
            "{1: 0.7014925373134329, 2: 0.7014925373134329, 3: 0.7238805970149254, 4: 0.7276119402985075, 5: 0.7425373134328358, 6: 0.6977611940298507, 7: 0.7350746268656716, 8: 0.7126865671641791, 9: 0.7388059701492538}\n",
            "\n",
            "Test size:  40.0 %\n",
            "{1: 0.7086834733893558, 2: 0.7142857142857143, 3: 0.742296918767507, 4: 0.7254901960784313, 5: 0.7338935574229691, 6: 0.7366946778711485, 7: 0.7478991596638656, 8: 0.7198879551820728, 9: 0.7563025210084033}\n"
          ],
          "name": "stdout"
        },
        {
          "output_type": "stream",
          "text": [
            "/usr/local/lib/python3.7/dist-packages/ipykernel_launcher.py:21: DataConversionWarning: A column-vector y was passed when a 1d array was expected. Please change the shape of y to (n_samples, ), for example using ravel().\n",
            "/usr/local/lib/python3.7/dist-packages/ipykernel_launcher.py:21: DataConversionWarning: A column-vector y was passed when a 1d array was expected. Please change the shape of y to (n_samples, ), for example using ravel().\n",
            "/usr/local/lib/python3.7/dist-packages/ipykernel_launcher.py:21: DataConversionWarning: A column-vector y was passed when a 1d array was expected. Please change the shape of y to (n_samples, ), for example using ravel().\n",
            "/usr/local/lib/python3.7/dist-packages/ipykernel_launcher.py:21: DataConversionWarning: A column-vector y was passed when a 1d array was expected. Please change the shape of y to (n_samples, ), for example using ravel().\n",
            "/usr/local/lib/python3.7/dist-packages/ipykernel_launcher.py:21: DataConversionWarning: A column-vector y was passed when a 1d array was expected. Please change the shape of y to (n_samples, ), for example using ravel().\n",
            "/usr/local/lib/python3.7/dist-packages/ipykernel_launcher.py:21: DataConversionWarning: A column-vector y was passed when a 1d array was expected. Please change the shape of y to (n_samples, ), for example using ravel().\n",
            "/usr/local/lib/python3.7/dist-packages/ipykernel_launcher.py:21: DataConversionWarning: A column-vector y was passed when a 1d array was expected. Please change the shape of y to (n_samples, ), for example using ravel().\n",
            "/usr/local/lib/python3.7/dist-packages/ipykernel_launcher.py:21: DataConversionWarning: A column-vector y was passed when a 1d array was expected. Please change the shape of y to (n_samples, ), for example using ravel().\n",
            "/usr/local/lib/python3.7/dist-packages/ipykernel_launcher.py:21: DataConversionWarning: A column-vector y was passed when a 1d array was expected. Please change the shape of y to (n_samples, ), for example using ravel().\n",
            "/usr/local/lib/python3.7/dist-packages/ipykernel_launcher.py:21: DataConversionWarning: A column-vector y was passed when a 1d array was expected. Please change the shape of y to (n_samples, ), for example using ravel().\n",
            "/usr/local/lib/python3.7/dist-packages/ipykernel_launcher.py:21: DataConversionWarning: A column-vector y was passed when a 1d array was expected. Please change the shape of y to (n_samples, ), for example using ravel().\n"
          ],
          "name": "stderr"
        }
      ]
    },
    {
      "cell_type": "markdown",
      "metadata": {
        "id": "-6qgPbiMNQIV"
      },
      "source": [
        "**Findings**\r\n",
        "* With 20% training dataset k = 3 provides the highest accuracy at 75.42%\r\n",
        "* At 30% training dataset k = 4 provides the best model with an accuracy of 72.76%. *Notably k =3 also gives a gives a fairly high accurecy scores of 72.39%*\r\n",
        "* With 40% of the data set as the training data, the model with k = 3 provides the best model with an accuracy score of 74.23%"
      ]
    },
    {
      "cell_type": "markdown",
      "metadata": {
        "id": "379DMspRQjd0"
      },
      "source": [
        "## FOLLOW UP QUESTIONS"
      ]
    },
    {
      "cell_type": "markdown",
      "metadata": {
        "id": "gcpBVmyKQvCs"
      },
      "source": [
        "a). Did we have the right data?\r\n",
        "\r\n",
        "> Yes. However, more data should be colleced for a much better model parameters"
      ]
    },
    {
      "cell_type": "markdown",
      "metadata": {
        "id": "2T4eLcPvZ-ad"
      },
      "source": [
        "b). Do we need other data to answer our question?\r\n",
        "> No"
      ]
    },
    {
      "cell_type": "markdown",
      "metadata": {
        "id": "0_uB2674aCdL"
      },
      "source": [
        "c). Did we have the right question?\r\n",
        "> Yes"
      ]
    }
  ]
}